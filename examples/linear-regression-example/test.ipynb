{
 "cells": [
  {
   "cell_type": "code",
   "execution_count": 13,
   "metadata": {},
   "outputs": [
    {
     "name": "stdout",
     "output_type": "stream",
     "text": [
      "prediction=2499747.2688147323\n"
     ]
    }
   ],
   "source": [
    "from pickle import load\n",
    "from sklearn.linear_model import LinearRegression\n",
    "from numpy import array\n",
    "\n",
    "model: LinearRegression = load(open(\"./my-linear-regression.sav\", 'rb'))\n",
    "\n",
    "prediction = model.predict(array([33]).reshape(-1, 1))[0]\n",
    "\n",
    "print(f\"{prediction=}\")\n",
    "\n"
   ]
  }
 ],
 "metadata": {
  "kernelspec": {
   "display_name": "Python 3",
   "language": "python",
   "name": "python3"
  },
  "language_info": {
   "codemirror_mode": {
    "name": "ipython",
    "version": 3
   },
   "file_extension": ".py",
   "mimetype": "text/x-python",
   "name": "python",
   "nbconvert_exporter": "python",
   "pygments_lexer": "ipython3",
   "version": "3.10.1"
  },
  "orig_nbformat": 4
 },
 "nbformat": 4,
 "nbformat_minor": 2
}
